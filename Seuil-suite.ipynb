{
 "cells": [
  {
   "cell_type": "markdown",
   "metadata": {},
   "source": [
    "Soit (un) une suite définie par récurrence, convergente, de limite l.  \n",
    "Ce programme calcule le rang n minimal pour que la différence, en valeur absolue, entre le terme un et la la limite l soit inférieur à une valeur e saisie par l'utilisateur."
   ]
  },
  {
   "cell_type": "code",
   "execution_count": 7,
   "metadata": {},
   "outputs": [
    {
     "name": "stdout",
     "output_type": "stream",
     "text": [
      "Saisir la valeur e=0.000001\n",
      "Liste des premiers termes de la suite\n",
      "1.0\n",
      "3.5\n",
      "4.888888888888889\n",
      "5.150943396226415\n",
      "5.1871165644171775\n",
      "5.191869112543381\n",
      "5.192489390663784\n",
      "5.192570275931625\n",
      "5.192580822306811\n",
      "5.192582197395134\n",
      "Le rang N minimal pour que abs(Un-l)<e est N= 10\n"
     ]
    }
   ],
   "source": [
    "from math import *\n",
    "u=0\n",
    "n=0\n",
    "l=(5+sqrt(29))/2#limite\n",
    "e=float(input(\"Saisir la valeur e=\"))\n",
    "print (\"Liste des premiers termes de la suite\")\n",
    "while abs(l-u)>e:\n",
    "    u=6-5/(u+1)#définition de la suite par récurrence\n",
    "    n=n+1\n",
    "    print(u)\n",
    "print(\"Le rang N minimal pour que abs(Un-l)<e est N=\", n)"
   ]
  },
  {
   "cell_type": "code",
   "execution_count": null,
   "metadata": {},
   "outputs": [],
   "source": []
  }
 ],
 "metadata": {
  "kernelspec": {
   "display_name": "Python 3",
   "language": "python",
   "name": "python3"
  },
  "language_info": {
   "codemirror_mode": {
    "name": "ipython",
    "version": 3
   },
   "file_extension": ".py",
   "mimetype": "text/x-python",
   "name": "python",
   "nbconvert_exporter": "python",
   "pygments_lexer": "ipython3",
   "version": "3.6.5"
  }
 },
 "nbformat": 4,
 "nbformat_minor": 2
}
