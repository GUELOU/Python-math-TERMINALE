{
 "cells": [
  {
   "cell_type": "markdown",
   "metadata": {},
   "source": [
    "BLOC NOTE pour tester les fonctionnalités de TURTLE \n",
    "Ce programme dessine une fractale: le flocon de Von-Koch."
   ]
  },
  {
   "cell_type": "code",
   "execution_count": 1,
   "metadata": {},
   "outputs": [
    {
     "data": {
      "application/vnd.jupyter.widget-view+json": {
       "model_id": "b8e6439a801e474d99704bedd920b634",
       "version_major": 2,
       "version_minor": 0
      },
      "text/plain": [
       "Turtle()"
      ]
     },
     "metadata": {},
     "output_type": "display_data"
    }
   ],
   "source": [
    "#ouverture d'une fenêtre graphique \n",
    "from ipyturtle import Turtle\n",
    "t = Turtle()\n",
    "t\n"
   ]
  },
  {
   "cell_type": "code",
   "execution_count": 2,
   "metadata": {},
   "outputs": [],
   "source": [
    "def koch(n,longueur):\n",
    "    if n==0:\n",
    "        t.forward(longueur)\n",
    "    else:\n",
    "        koch(n-1,longueur/3)\n",
    "        t.left(60)\n",
    "        koch(n-1,longueur/3)\n",
    "        t.right(120)\n",
    "        koch(n-1,longueur/3)\n",
    "        t.left(60)\n",
    "        koch(n-1,longueur/3)\n",
    "        "
   ]
  },
  {
   "cell_type": "code",
   "execution_count": 3,
   "metadata": {},
   "outputs": [],
   "source": [
    "t.reset() #clear canvas and start again\n",
    "t.penup()\n",
    "t.left(90)\n",
    "t.forward(150)\n",
    "t.right(180)\n",
    "t.pendown()\n",
    "koch(5,300)\n"
   ]
  },
  {
   "cell_type": "code",
   "execution_count": null,
   "metadata": {},
   "outputs": [],
   "source": []
  }
 ],
 "metadata": {
  "kernelspec": {
   "display_name": "Python 3",
   "language": "python",
   "name": "python3"
  },
  "language_info": {
   "codemirror_mode": {
    "name": "ipython",
    "version": 3
   },
   "file_extension": ".py",
   "mimetype": "text/x-python",
   "name": "python",
   "nbconvert_exporter": "python",
   "pygments_lexer": "ipython3",
   "version": "3.6.5"
  }
 },
 "nbformat": 4,
 "nbformat_minor": 2
}
