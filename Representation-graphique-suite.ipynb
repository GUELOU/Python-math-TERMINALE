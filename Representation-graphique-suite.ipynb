{
 "cells": [
  {
   "cell_type": "code",
   "execution_count": 7,
   "metadata": {},
   "outputs": [
    {
     "name": "stdout",
     "output_type": "stream",
     "text": [
      "Représentation graphique (nuage de points) des termes d'une suite définie explicitement\n",
      "Saisir le rang maximum à calculer, à représenter sur le graphique:500\n",
      "U 500 = 1.9999860523770874\n",
      "Le fichier image se nomme [graphe-suite.png]\n"
     ]
    }
   ],
   "source": [
    "from math import sin\n",
    "import matplotlib as mpl\n",
    "mpl.use('Agg')\n",
    "\n",
    "import matplotlib.pyplot as plt\n",
    "fig = plt.figure()\n",
    "plt.grid()\n",
    "\n",
    "print (\"Représentation graphique (nuage de points) des termes d'une suite définie explicitement\")\n",
    "n=input (\"Saisir le rang maximum à calculer, à représenter sur le graphique:\")\n",
    "n=int(n)\n",
    "\n",
    "for i in range(n):\n",
    "    y=(2*i*i-3*sin(i))/(i*i+1)#définition de la suite définie explicitement\n",
    "    plt.plot(i,y,'bo')\n",
    "print(\"U\",n,\"=\",y)\n",
    "print(\"Le fichier image se nomme [graphe-suite.png]\")\n",
    "    \n",
    "fig.savefig('graph-suite.png') # ecriture du graphique dans un fichier image    \n"
   ]
  },
  {
   "cell_type": "code",
   "execution_count": null,
   "metadata": {},
   "outputs": [],
   "source": []
  }
 ],
 "metadata": {
  "kernelspec": {
   "display_name": "Python 3",
   "language": "python",
   "name": "python3"
  },
  "language_info": {
   "codemirror_mode": {
    "name": "ipython",
    "version": 3
   },
   "file_extension": ".py",
   "mimetype": "text/x-python",
   "name": "python",
   "nbconvert_exporter": "python",
   "pygments_lexer": "ipython3",
   "version": "3.6.5"
  }
 },
 "nbformat": 4,
 "nbformat_minor": 2
}
