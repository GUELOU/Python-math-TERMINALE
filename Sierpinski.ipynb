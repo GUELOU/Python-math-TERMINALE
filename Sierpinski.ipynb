{
 "cells": [
  {
   "cell_type": "markdown",
   "metadata": {},
   "source": [
    "BLOC NOTE pour construire une fractale : le  triangle de Sierpinski "
   ]
  },
  {
   "cell_type": "code",
   "execution_count": 3,
   "metadata": {},
   "outputs": [
    {
     "data": {
      "application/vnd.jupyter.widget-view+json": {
       "model_id": "00bab84996cc4572bdfa98dc305576f2",
       "version_major": 2,
       "version_minor": 0
      },
      "text/plain": [
       "Turtle()"
      ]
     },
     "metadata": {},
     "output_type": "display_data"
    }
   ],
   "source": [
    "#ouverture d'une fenêtre graphique \n",
    "from ipyturtle import Turtle\n",
    "t = Turtle()\n",
    "t\n"
   ]
  },
  {
   "cell_type": "code",
   "execution_count": 4,
   "metadata": {},
   "outputs": [],
   "source": [
    "def sierpinski (n,longueur):\n",
    "\n",
    "    if n==0:\n",
    "        for i in range (0,3) :\n",
    "            t.forward (longueur)\n",
    "            t.left(120)\n",
    "\n",
    "    if n>0:\n",
    "        sierpinski(n-1, longueur/2)\n",
    "        t.forward(longueur/2)\n",
    "        sierpinski(n-1, longueur/2)\n",
    "        t.back(longueur/2)\n",
    "        t.left(60)\n",
    "        t.forward(longueur/2)\n",
    "        t.right(60)\n",
    "        sierpinski(n-1, longueur/2)\n",
    "        t.left(60)\n",
    "        t.back(longueur/2)\n",
    "        t.right(60)\n",
    "       \n"
   ]
  },
  {
   "cell_type": "code",
   "execution_count": 5,
   "metadata": {},
   "outputs": [],
   "source": [
    "t.reset() #clear canvas and start again\n",
    "t.right(90)\n",
    "t.pendown()\n",
    "sierpinski(4,150)\n"
   ]
  },
  {
   "cell_type": "code",
   "execution_count": null,
   "metadata": {},
   "outputs": [],
   "source": []
  }
 ],
 "metadata": {
  "kernelspec": {
   "display_name": "Python 3",
   "language": "python",
   "name": "python3"
  },
  "language_info": {
   "codemirror_mode": {
    "name": "ipython",
    "version": 3
   },
   "file_extension": ".py",
   "mimetype": "text/x-python",
   "name": "python",
   "nbconvert_exporter": "python",
   "pygments_lexer": "ipython3",
   "version": "3.6.5"
  }
 },
 "nbformat": 4,
 "nbformat_minor": 2
}
