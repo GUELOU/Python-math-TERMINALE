{
 "cells": [
  {
   "cell_type": "markdown",
   "metadata": {},
   "source": [
    "Ce programme calcule et affiche la liste des diviseurs d'un entier n saisi par l'utilisateur."
   ]
  },
  {
   "cell_type": "code",
   "execution_count": 5,
   "metadata": {},
   "outputs": [
    {
     "name": "stdout",
     "output_type": "stream",
     "text": [
      "Saisir le nombre entier n : 568\n",
      "Liste des diviseurs de n : \n",
      "1\n",
      "2\n",
      "4\n",
      "8\n",
      "71\n",
      "142\n",
      "284\n",
      "568\n"
     ]
    }
   ],
   "source": [
    "n=input(\"Saisir le nombre entier n : \")\n",
    "n=int(n)\n",
    "print (\"Liste des diviseurs de n : \")\n",
    "for i in range (1,n+1):\n",
    " if n % i == 0:\n",
    "   print (i)"
   ]
  },
  {
   "cell_type": "code",
   "execution_count": null,
   "metadata": {},
   "outputs": [],
   "source": []
  }
 ],
 "metadata": {
  "kernelspec": {
   "display_name": "Python 3",
   "language": "python",
   "name": "python3"
  },
  "language_info": {
   "codemirror_mode": {
    "name": "ipython",
    "version": 3
   },
   "file_extension": ".py",
   "mimetype": "text/x-python",
   "name": "python",
   "nbconvert_exporter": "python",
   "pygments_lexer": "ipython3",
   "version": "3.6.5"
  }
 },
 "nbformat": 4,
 "nbformat_minor": 2
}
